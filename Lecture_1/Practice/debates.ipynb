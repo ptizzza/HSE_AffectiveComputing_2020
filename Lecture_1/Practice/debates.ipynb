{
 "cells": [
  {
   "cell_type": "code",
   "execution_count": 1,
   "metadata": {},
   "outputs": [],
   "source": [
    "# colab https://colab.research.google.com/drive/1CiluxCeyERcvZvakcU2A0a-e90CnxRW6?usp=sharing"
   ]
  },
  {
   "cell_type": "code",
   "execution_count": 2,
   "metadata": {},
   "outputs": [],
   "source": [
    "%matplotlib inline\n",
    "import pandas as pd\n",
    "import io\n",
    "import requests\n",
    "import matplotlib.pyplot as plt\n",
    "import seaborn as sns\n",
    "sns.set()\n",
    "import warnings\n",
    "warnings.filterwarnings('ignore')"
   ]
  },
  {
   "cell_type": "code",
   "execution_count": 5,
   "metadata": {},
   "outputs": [
    {
     "data": {
      "text/html": [
       "<div>\n",
       "<style scoped>\n",
       "    .dataframe tbody tr th:only-of-type {\n",
       "        vertical-align: middle;\n",
       "    }\n",
       "\n",
       "    .dataframe tbody tr th {\n",
       "        vertical-align: top;\n",
       "    }\n",
       "\n",
       "    .dataframe thead th {\n",
       "        text-align: right;\n",
       "    }\n",
       "</style>\n",
       "<table border=\"1\" class=\"dataframe\">\n",
       "  <thead>\n",
       "    <tr style=\"text-align: right;\">\n",
       "      <th></th>\n",
       "      <th>OriginalName</th>\n",
       "      <th>DatabaseName</th>\n",
       "      <th>Participant</th>\n",
       "      <th>SessionID</th>\n",
       "      <th>Timestamp</th>\n",
       "      <th>VideoTime</th>\n",
       "      <th>Value</th>\n",
       "    </tr>\n",
       "  </thead>\n",
       "  <tbody>\n",
       "    <tr>\n",
       "      <th>0</th>\n",
       "      <td>Kqbm2YkMP0Q</td>\n",
       "      <td>0B32702C-02FD-CD1F-0003-F0F76F5B1581-1</td>\n",
       "      <td>64537568-A2D2-A06D-D77B-406447F883C9</td>\n",
       "      <td>68B04DF6-B6C2-6F9C-CF35-3B16FE70C98E</td>\n",
       "      <td>1599299793221</td>\n",
       "      <td>0</td>\n",
       "      <td>0</td>\n",
       "    </tr>\n",
       "    <tr>\n",
       "      <th>1</th>\n",
       "      <td>Kqbm2YkMP0Q</td>\n",
       "      <td>0B32702C-02FD-CD1F-0003-F0F76F5B1581-1</td>\n",
       "      <td>C4731719-5D70-7ECE-3805-EA61A3952D4F</td>\n",
       "      <td>8184BDE9-44B8-49FF-E0DF-B21AFFDD7CA7</td>\n",
       "      <td>1599299818085</td>\n",
       "      <td>0</td>\n",
       "      <td>0</td>\n",
       "    </tr>\n",
       "    <tr>\n",
       "      <th>2</th>\n",
       "      <td>Kqbm2YkMP0Q</td>\n",
       "      <td>0B32702C-02FD-CD1F-0003-F0F76F5B1581-1</td>\n",
       "      <td>955C1EAE-3708-1ECF-88F3-22D086B41D86</td>\n",
       "      <td>FFF9F8D1-635C-AF34-67E2-EB3E2DCE6481</td>\n",
       "      <td>1599295854768</td>\n",
       "      <td>0</td>\n",
       "      <td>0</td>\n",
       "    </tr>\n",
       "    <tr>\n",
       "      <th>3</th>\n",
       "      <td>Kqbm2YkMP0Q</td>\n",
       "      <td>0B32702C-02FD-CD1F-0003-F0F76F5B1581-1</td>\n",
       "      <td>955C1EAE-3708-1ECF-88F3-22D086B41D86</td>\n",
       "      <td>FFF9F8D1-635C-AF34-67E2-EB3E2DCE6481</td>\n",
       "      <td>1599295864454</td>\n",
       "      <td>3500</td>\n",
       "      <td>4</td>\n",
       "    </tr>\n",
       "    <tr>\n",
       "      <th>4</th>\n",
       "      <td>Kqbm2YkMP0Q</td>\n",
       "      <td>0B32702C-02FD-CD1F-0003-F0F76F5B1581-1</td>\n",
       "      <td>64537568-A2D2-A06D-D77B-406447F883C9</td>\n",
       "      <td>68B04DF6-B6C2-6F9C-CF35-3B16FE70C98E</td>\n",
       "      <td>1599299836880</td>\n",
       "      <td>30666</td>\n",
       "      <td>13</td>\n",
       "    </tr>\n",
       "  </tbody>\n",
       "</table>\n",
       "</div>"
      ],
      "text/plain": [
       "  OriginalName                            DatabaseName  \\\n",
       "0  Kqbm2YkMP0Q  0B32702C-02FD-CD1F-0003-F0F76F5B1581-1   \n",
       "1  Kqbm2YkMP0Q  0B32702C-02FD-CD1F-0003-F0F76F5B1581-1   \n",
       "2  Kqbm2YkMP0Q  0B32702C-02FD-CD1F-0003-F0F76F5B1581-1   \n",
       "3  Kqbm2YkMP0Q  0B32702C-02FD-CD1F-0003-F0F76F5B1581-1   \n",
       "4  Kqbm2YkMP0Q  0B32702C-02FD-CD1F-0003-F0F76F5B1581-1   \n",
       "\n",
       "                            Participant                             SessionID  \\\n",
       "0  64537568-A2D2-A06D-D77B-406447F883C9  68B04DF6-B6C2-6F9C-CF35-3B16FE70C98E   \n",
       "1  C4731719-5D70-7ECE-3805-EA61A3952D4F  8184BDE9-44B8-49FF-E0DF-B21AFFDD7CA7   \n",
       "2  955C1EAE-3708-1ECF-88F3-22D086B41D86  FFF9F8D1-635C-AF34-67E2-EB3E2DCE6481   \n",
       "3  955C1EAE-3708-1ECF-88F3-22D086B41D86  FFF9F8D1-635C-AF34-67E2-EB3E2DCE6481   \n",
       "4  64537568-A2D2-A06D-D77B-406447F883C9  68B04DF6-B6C2-6F9C-CF35-3B16FE70C98E   \n",
       "\n",
       "       Timestamp  VideoTime  Value  \n",
       "0  1599299793221          0      0  \n",
       "1  1599299818085          0      0  \n",
       "2  1599295854768          0      0  \n",
       "3  1599295864454       3500      4  \n",
       "4  1599299836880      30666     13  "
      ]
     },
     "execution_count": 5,
     "metadata": {},
     "output_type": "execute_result"
    }
   ],
   "source": [
    "url = \"https://raw.githubusercontent.com/ptizzza/HSE_AffectiveComputing/master/Lecture_1/data/debates_data.csv\"\n",
    "s=requests.get(url).content\n",
    "debates = pd.read_csv(io.StringIO(s.decode('utf-8')))\n",
    "debates.head()"
   ]
  },
  {
   "cell_type": "code",
   "execution_count": 6,
   "metadata": {},
   "outputs": [
    {
     "data": {
      "text/plain": [
       "array(['Kqbm2YkMP0Q', 'pJlnxbO5N2g'], dtype=object)"
      ]
     },
     "execution_count": 6,
     "metadata": {},
     "output_type": "execute_result"
    }
   ],
   "source": [
    "debates.OriginalName.unique()"
   ]
  },
  {
   "cell_type": "code",
   "execution_count": null,
   "metadata": {},
   "outputs": [],
   "source": []
  }
 ],
 "metadata": {
  "kernelspec": {
   "display_name": "Python 3",
   "language": "python",
   "name": "python3"
  },
  "language_info": {
   "codemirror_mode": {
    "name": "ipython",
    "version": 3
   },
   "file_extension": ".py",
   "mimetype": "text/x-python",
   "name": "python",
   "nbconvert_exporter": "python",
   "pygments_lexer": "ipython3",
   "version": "3.7.7"
  }
 },
 "nbformat": 4,
 "nbformat_minor": 2
}
